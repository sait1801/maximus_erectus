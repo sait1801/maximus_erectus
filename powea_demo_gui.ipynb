{
  "cells": [
    {
      "cell_type": "markdown",
      "metadata": {
        "id": "view-in-github",
        "colab_type": "text"
      },
      "source": [
        "<a href=\"https://colab.research.google.com/github/sait1801/maximus_erectus/blob/main/powea_demo_gui.ipynb\" target=\"_parent\"><img src=\"https://colab.research.google.com/assets/colab-badge.svg\" alt=\"Open In Colab\"/></a>"
      ]
    },
    {
      "cell_type": "markdown",
      "metadata": {
        "id": "qz2AOelqOTId"
      },
      "source": [
        "#Import the Necessary Libraries"
      ]
    },
    {
      "cell_type": "code",
      "execution_count": 88,
      "metadata": {
        "id": "zLIXbPusOFP5"
      },
      "outputs": [],
      "source": [
        "import pandas as pd\n",
        "import numpy as np\n",
        "from datetime import date\n",
        "import datetime"
      ]
    },
    {
      "cell_type": "markdown",
      "metadata": {
        "id": "e-BhUI7DhbIm"
      },
      "source": [
        "# Getting Dataframe"
      ]
    },
    {
      "cell_type": "code",
      "execution_count": 89,
      "metadata": {
        "id": "2EkBDxbhhjGP"
      },
      "outputs": [],
      "source": [
        "df_plot = pd.read_csv('/content/df_plot_full.csv')\n",
        "# df_plot['Date'] = pd.to_datetime(df_plot['Date'], format='%d.%m.%Y') + pd.to_timedelta(df_plot['Hour'], unit='h')\n",
        "df_plot['Date'] = pd.to_datetime(df_plot['Date'], format='%d.%m.%Y')\n"
      ]
    },
    {
      "cell_type": "code",
      "execution_count": 90,
      "metadata": {
        "id": "tW2KUSbHooIb"
      },
      "outputs": [],
      "source": [
        "# df_plot.head(20)"
      ]
    },
    {
      "cell_type": "code",
      "execution_count": 91,
      "metadata": {
        "id": "R0fbY-q1fxFX"
      },
      "outputs": [],
      "source": [
        "##Day left finder\n",
        "def day_left(current_charge,bat_cap,consumption):\n",
        "  # print(f\"current_charge = {current_charge},bat_cap = {bat_cap},consumption = {consumption}\")\n",
        "  kwh_left = (bat_cap * (current_charge-20)/100)\n",
        "  # print(f\"kwh_left for 20 to 80 in charge : {kwh_left}\")\n",
        "  # print(f\"kwh required to charge  : {41.6-kwh_left}\")\n",
        "\n",
        "  return int(kwh_left/consumption)\n",
        "\n",
        "import datetime\n",
        "\n",
        "def days_between(date1, date2):\n",
        "  date1 = datetime.datetime.strptime(date1, '%Y-%m-%d')\n",
        "  date2 = datetime.datetime.strptime(date2, '%Y-%m-%d')\n",
        "  return (date2 - date1).days\n",
        "\n",
        "\n",
        "\n",
        "## EV BUS scheduler\n",
        "def find_max_ren_tot_rate_bus(df, next_days,daily_consumption,date_index,increment):\n",
        "    kw_renewed_bus =  []\n",
        "    kw_charged_bus = []\n",
        "    renewability_rates_bus = []\n",
        "\n",
        "    for day_number in range(0,next_days):\n",
        "      start_index = date_index + 24*day_number\n",
        "      end_index = date_index+increment + 24*day_number\n",
        "      renewability_rate =  df.loc[start_index : end_index]['ren/tot'].values.flatten()\n",
        "\n",
        "      renewability_rates_bus.append(max(renewability_rate))\n",
        "      kw_charged_bus.append(daily_consumption * (day_number+1))\n",
        "\n",
        "      kw_renewed_bus.append(daily_consumption * (day_number+1) *renewability_rates_bus[-1] /100)\n",
        "\n",
        "\n",
        "    max_value = max(renewability_rates_bus) #This is for the best for kwh renewed\n",
        "\n",
        "    max_index = renewability_rates_bus.index(max_value) #This is for the best for kwh renewed\n",
        "\n",
        "    return kw_renewed_bus[max_index],max_index, kw_charged_bus[max_index]\n",
        "\n",
        "##EV car scheduler\n",
        "def find_max_ren_tot_rate(df, next_days,daily_consumption,date_index,increment):\n",
        "    kw_renewed =  []\n",
        "    kw_charged = []\n",
        "    renewability_rates = []\n",
        "    day_inc = df_plot.loc[(df_plot['Date'] == pd.Timestamp(starting_date))].shape[0]\n",
        "\n",
        "    for day_number in range(0,next_days):\n",
        "\n",
        "      start_index = date_index + 24*day_number\n",
        "      end_index = date_index+increment + 24*day_number\n",
        "\n",
        "      renewability_rate =  df.loc[start_index : end_index]['ren/tot'].values.flatten()\n",
        "\n",
        "      renewability_rates.append(max(renewability_rate))\n",
        "\n",
        "      kw_renewed.append(daily_consumption * (day_number+1) *renewability_rates[-1] /100)\n",
        "      kw_charged.append(daily_consumption * (day_number+1))\n",
        "\n",
        "    print(f\"ren rates of days: {renewability_rates}\")\n",
        "    print(f\"kwh renewed rates of days: {kw_renewed}\")\n",
        "\n",
        "\n",
        "    max_value_ren_based =max(renewability_rates) #This is for the best for renewability rate\n",
        "    max_index = renewability_rates.index(max_value_ren_based) #This is for the best for renewability rate\n",
        "    print(f\"max_index: {max_index}\")\n",
        "\n",
        "\n",
        "    try:\n",
        "      if (max_index ==0 ):\n",
        "        print(\"Index = 0\")\n",
        "        copy_renewability_rates = renewability_rates\n",
        "        renewability_rates.sort()\n",
        "        max_index = copy_renewability_rates.index(renewability_rates[-2])\n",
        "\n",
        "        # ##HERE\n",
        "        # if max_index==0:\n",
        "        #   max_index +=1\n",
        "\n",
        "    except:\n",
        "      print(f\"max index == 0 and the day left is 1 \")\n",
        "      max_index +=1\n",
        "      kw_renewed.append(kw_renewed[0])\n",
        "      kw_charged.append(kw_charged[0])\n",
        "\n",
        "    return kw_renewed[max_index],max_index, kw_charged[max_index]"
      ]
    },
    {
      "cell_type": "markdown",
      "metadata": {
        "id": "462WJvONOaLw"
      },
      "source": [
        "#Date and Car Make Selector GUI"
      ]
    },
    {
      "cell_type": "markdown",
      "metadata": {
        "id": "j7C3S7xaJs7Z"
      },
      "source": [
        "#Note ! : if your hour selection is 23-07 you must take +1 of each hour like 00-08"
      ]
    },
    {
      "cell_type": "code",
      "execution_count": 92,
      "metadata": {
        "colab": {
          "base_uri": "https://localhost:8080/"
        },
        "id": "4fVuy916OdwT",
        "outputId": "807de79e-9ba3-4ac0-bc41-e7ac9e540ece"
      },
      "outputs": [
        {
          "output_type": "stream",
          "name": "stdout",
          "text": [
            "daily_average_electricity_consumption : 12\n"
          ]
        }
      ],
      "source": [
        "#@title Enter the Following Information\n",
        "starting_date = '2023-03-09' #@param {type : \"date\"}\n",
        "starting_hour = 20 #@param {type : \"slider\", min:0, max : 23, step:1}\n",
        "car_battery_capacity = 100 #@param {type : \"slider\", min:42, max : 100, step:1}\n",
        "end_date = '2023-03-10' #@param {type : \"date\"}\n",
        "end_hour = 8 #@param {type : \"slider\", min:0, max : 23, step:1}\n",
        "\n",
        "car_vs_bus = 'EV' #@param ['Bus', 'EV'] {type: \"string\"}\n",
        "\n",
        "daily_average_electricity_consumption = 12 #@param {type : \"slider\", min: 1, max: 20}\n",
        "\n",
        "if car_vs_bus == 'Bus':\n",
        "  daily_average_electricity_consumption = 150\n",
        "  car_battery_capacity = 450\n",
        "\n",
        "print(f\"daily_average_electricity_consumption : {daily_average_electricity_consumption}\")"
      ]
    },
    {
      "cell_type": "markdown",
      "metadata": {
        "id": "qIqa8NmbRr5S"
      },
      "source": [
        "# Main Code"
      ]
    },
    {
      "cell_type": "code",
      "execution_count": 93,
      "metadata": {
        "id": "6G9u44sAwvWI"
      },
      "outputs": [],
      "source": [
        "# df_plot.loc[(df_plot['Date'] == pd.Timestamp(starting_date))]"
      ]
    },
    {
      "cell_type": "code",
      "execution_count": 94,
      "metadata": {
        "colab": {
          "base_uri": "https://localhost:8080/"
        },
        "id": "v5JKu76ul-sB",
        "outputId": "eb3f8af5-9d30-47b3-ae7e-b123332a7ec2"
      },
      "outputs": [
        {
          "output_type": "execute_result",
          "data": {
            "text/plain": [
              "12"
            ]
          },
          "metadata": {},
          "execution_count": 94
        }
      ],
      "source": [
        "first_index= df_plot.loc[(df_plot['Date'] == pd.Timestamp(starting_date))]\n",
        "first_index = first_index.loc[(first_index['Hour'] == starting_hour)]\n",
        "first_index = first_index.index[0]\n",
        "\n",
        "second_index= df_plot.loc[(df_plot['Date'] == pd.Timestamp(end_date))]\n",
        "second_index = second_index.loc[(second_index['Hour'] == end_hour)]\n",
        "second_index = second_index.index[0]\n",
        "\n",
        "hour_difference  = second_index -first_index\n",
        "hour_difference"
      ]
    },
    {
      "cell_type": "code",
      "execution_count": 95,
      "metadata": {
        "colab": {
          "base_uri": "https://localhost:8080/"
        },
        "id": "2Fr0CuiBF7uq",
        "outputId": "47bb9772-77ba-4773-e04b-fdea27495422"
      },
      "outputs": [
        {
          "output_type": "stream",
          "name": "stdout",
          "text": [
            "incremenet : 12\n"
          ]
        }
      ],
      "source": [
        "if (starting_hour > end_hour): #23 -07\n",
        "  increment = 24-starting_hour + end_hour\n",
        "  df_plot = df_plot[df_plot['Hour'].between(starting_hour,24) | df_plot['Hour'].between(0,end_hour)]\n",
        "elif (end_hour > starting_hour):\n",
        "  increment = end_hour- starting_hour # #07-01\n",
        "  df_plot = df_plot[df_plot['Hour'].between(starting_hour,end_hour)]\n",
        "\n",
        "else:\n",
        "  increment = 24\n",
        "print(f\"incremenet : {increment}\")"
      ]
    },
    {
      "cell_type": "code",
      "execution_count": 96,
      "metadata": {
        "id": "143A476QpBWz"
      },
      "outputs": [],
      "source": [
        "# print(type(df_plot['Date'].loc[0]))\n",
        "# pd.Timestamp(starting_date)"
      ]
    },
    {
      "cell_type": "code",
      "execution_count": 97,
      "metadata": {
        "id": "DZ5-oTcow2ln"
      },
      "outputs": [],
      "source": [
        "# df_plot.loc[(df_plot['Date'] == pd.Timestamp(starting_date))].head(5)"
      ]
    },
    {
      "cell_type": "code",
      "execution_count": 98,
      "metadata": {
        "id": "HdTtsqoCoaVs"
      },
      "outputs": [],
      "source": [
        "# date_index= df_plot.loc[(df_plot['Date'] == pd.Timestamp(starting_date))]\n",
        "date_index= df_plot.loc[(df_plot['Date'] == pd.Timestamp(starting_date))]\n",
        "\n",
        "date_index = date_index.loc[(date_index['Hour'] == starting_hour)]\n",
        "date_index.index[0]\n",
        "\n",
        "start_index = first_index\n",
        "end_index = second_index\n",
        "# print(start_index)\n",
        "# print(end_index)\n",
        "# print(end_index-start_index)"
      ]
    },
    {
      "cell_type": "code",
      "execution_count": 99,
      "metadata": {
        "id": "oOPQLS-9JbVk"
      },
      "outputs": [],
      "source": [
        "# print(end_index)"
      ]
    },
    {
      "cell_type": "code",
      "execution_count": 100,
      "metadata": {
        "id": "x0jYOM8isGuu"
      },
      "outputs": [],
      "source": [
        "# df_plot.loc[start_index:end_index].head(50)"
      ]
    },
    {
      "cell_type": "code",
      "execution_count": 101,
      "metadata": {
        "colab": {
          "base_uri": "https://localhost:8080/"
        },
        "id": "n7GTvi75O2kR",
        "outputId": "600cdda8-23be-4701-a3fb-500455e3e57f"
      },
      "outputs": [
        {
          "output_type": "stream",
          "name": "stdout",
          "text": [
            "day_between_dates: 1\n",
            "day_to_next_charge : 5\n",
            "ren rates of days: [47.6320627510722]\n",
            "kwh renewed rates of days: [5.715847530128664]\n",
            "max_index: 0\n",
            "Index = 0\n",
            "max index == 0 and the day left is 1 \n",
            "max index ,kw_consumed, max renewed: (1, 12, 5.715847530128664)\n",
            "start_index = 19172\n",
            "EXITED SUCCESSFULLY :19172, 19160\n"
          ]
        }
      ],
      "source": [
        "if (car_vs_bus == 'EV'):\n",
        "  charged_percs = []\n",
        "  starting_dates = []\n",
        "  ren_rates= []\n",
        "  charge_day = starting_date\n",
        "  max_index = start_index\n",
        "  start_index_clone = start_index\n",
        "  current_charge=80\n",
        "\n",
        "  try:\n",
        "    while(True):\n",
        "      day_to_next_charge = day_left(current_charge, car_battery_capacity,daily_average_electricity_consumption)\n",
        "      day_between_dates = days_between(starting_date,end_date)\n",
        "      print(f\"day_between_dates: {day_between_dates}\")\n",
        "      print(f\"day_to_next_charge : {day_to_next_charge}\")\n",
        "\n",
        "      if day_between_dates < day_to_next_charge:\n",
        "        day_to_next_charge = day_between_dates\n",
        "\n",
        "      try:\n",
        "        max_kw_renewed, max_index,kw_consumed = find_max_ren_tot_rate(df_plot, day_to_next_charge,daily_average_electricity_consumption,start_index,increment)\n",
        "      except Exception as e:\n",
        "        print(f\"An exception occurred: {str(e)}\")\n",
        "        print(\"Bitti\")\n",
        "        break\n",
        "      print(f\"max index ,kw_consumed, max renewed: {max_index, kw_consumed, max_kw_renewed}\")\n",
        "\n",
        "      # if max_index == 0:\n",
        "      #   max_index +=1 ##HERE\n",
        "\n",
        "      start_index += max_index*24\n",
        "      print(f\"start_index = {start_index}\")\n",
        "\n",
        "\n",
        "\n",
        "\n",
        "      ren_rates.append(max_kw_renewed)\n",
        "      if start_index > end_index:\n",
        "        print(f\"EXITED SUCCESSFULLY :{start_index}, {end_index}\")\n",
        "        break\n",
        "\n",
        "      current_charge =80\n",
        "      print(\"============================\")\n",
        "  except:\n",
        "    print(f\"final cahrge day: {starting_date}\")\n",
        "\n",
        "else:\n",
        "  print(\"BUS SELECTED\")\n",
        "  charged_percs = []\n",
        "  starting_dates = []\n",
        "  ren_rates= []\n",
        "  charge_day = starting_date\n",
        "  max_index = start_index\n",
        "  start_index_clone = start_index\n",
        "  try:\n",
        "    while(True):\n",
        "      day_to_next_charge = day_left(80, car_battery_capacity,daily_average_electricity_consumption)\n",
        "\n",
        "      try:\n",
        "        max_kw_renewed, max_index, kw_consumed = find_max_ren_tot_rate_bus(df_plot, day_to_next_charge,daily_average_electricity_consumption,start_index,increment)\n",
        "      except Exception as e:\n",
        "        print(f\"An exception occurred: {str(e)}\")\n",
        "        print(\"Bitti\")\n",
        "        break\n",
        "\n",
        "\n",
        "      print(f\"max index ,kw_consumed: {max_index, kw_consumed, max_kw_renewed}\")\n",
        "\n",
        "\n",
        "      start_index += 24 ##??  increment\n",
        "\n",
        "\n",
        "\n",
        "      ren_rates.append(max_kw_renewed)\n",
        "      if start_index > end_index:\n",
        "        print(f\"EXITED SUCCESSFULLY :startin : {start_index}, end in {end_index}\")\n",
        "        break\n",
        "\n",
        "      current_charge =100\n",
        "      print(\"============================\")\n",
        "  except:\n",
        "    print(f\"final cahrge day: {starting_date}\")\n"
      ]
    },
    {
      "cell_type": "markdown",
      "metadata": {
        "id": "2GGcVY8JRwqf"
      },
      "source": [
        "# Finalizing"
      ]
    },
    {
      "cell_type": "code",
      "execution_count": 102,
      "metadata": {
        "id": "THrqZ46aa8fo",
        "colab": {
          "base_uri": "https://localhost:8080/"
        },
        "outputId": "6142e7ba-79d4-4da8-ecd9-b037e53077bb"
      },
      "outputs": [
        {
          "output_type": "execute_result",
          "data": {
            "text/plain": [
              "[5.715847530128664]"
            ]
          },
          "metadata": {},
          "execution_count": 102
        }
      ],
      "source": [
        "ren_rates"
      ]
    },
    {
      "cell_type": "code",
      "execution_count": 102,
      "metadata": {
        "id": "1uL_VTKPk9ks"
      },
      "outputs": [],
      "source": []
    },
    {
      "cell_type": "code",
      "execution_count": 103,
      "metadata": {
        "colab": {
          "base_uri": "https://localhost:8080/",
          "height": 115
        },
        "id": "nCEFCpmXMUsi",
        "outputId": "a3afeffe-bb78-4728-8008-1708526a2777"
      },
      "outputs": [
        {
          "output_type": "stream",
          "name": "stderr",
          "text": [
            "<ipython-input-103-b8e26df5c2f1>:4: UserWarning: Boolean Series key will be reindexed to match DataFrame index.\n",
            "  df_normal_bus = df_normal_bus[df_plot['Hour'] == starting_hour]\n"
          ]
        },
        {
          "output_type": "execute_result",
          "data": {
            "text/plain": [
              "            Date  Hour     Total     Flow      Dam    Wind  Solar      Jeo  \\\n",
              "19148 2023-03-09    20  39.34335  2.11865  5.21152  7.1927    0.0  1.18609   \n",
              "\n",
              "         ren/tot  \n",
              "19148  39.927866  "
            ],
            "text/html": [
              "\n",
              "  <div id=\"df-e2833905-efe1-414f-b4f6-6e5d00d703e8\" class=\"colab-df-container\">\n",
              "    <div>\n",
              "<style scoped>\n",
              "    .dataframe tbody tr th:only-of-type {\n",
              "        vertical-align: middle;\n",
              "    }\n",
              "\n",
              "    .dataframe tbody tr th {\n",
              "        vertical-align: top;\n",
              "    }\n",
              "\n",
              "    .dataframe thead th {\n",
              "        text-align: right;\n",
              "    }\n",
              "</style>\n",
              "<table border=\"1\" class=\"dataframe\">\n",
              "  <thead>\n",
              "    <tr style=\"text-align: right;\">\n",
              "      <th></th>\n",
              "      <th>Date</th>\n",
              "      <th>Hour</th>\n",
              "      <th>Total</th>\n",
              "      <th>Flow</th>\n",
              "      <th>Dam</th>\n",
              "      <th>Wind</th>\n",
              "      <th>Solar</th>\n",
              "      <th>Jeo</th>\n",
              "      <th>ren/tot</th>\n",
              "    </tr>\n",
              "  </thead>\n",
              "  <tbody>\n",
              "    <tr>\n",
              "      <th>19148</th>\n",
              "      <td>2023-03-09</td>\n",
              "      <td>20</td>\n",
              "      <td>39.34335</td>\n",
              "      <td>2.11865</td>\n",
              "      <td>5.21152</td>\n",
              "      <td>7.1927</td>\n",
              "      <td>0.0</td>\n",
              "      <td>1.18609</td>\n",
              "      <td>39.927866</td>\n",
              "    </tr>\n",
              "  </tbody>\n",
              "</table>\n",
              "</div>\n",
              "    <div class=\"colab-df-buttons\">\n",
              "\n",
              "  <div class=\"colab-df-container\">\n",
              "    <button class=\"colab-df-convert\" onclick=\"convertToInteractive('df-e2833905-efe1-414f-b4f6-6e5d00d703e8')\"\n",
              "            title=\"Convert this dataframe to an interactive table.\"\n",
              "            style=\"display:none;\">\n",
              "\n",
              "  <svg xmlns=\"http://www.w3.org/2000/svg\" height=\"24px\" viewBox=\"0 -960 960 960\">\n",
              "    <path d=\"M120-120v-720h720v720H120Zm60-500h600v-160H180v160Zm220 220h160v-160H400v160Zm0 220h160v-160H400v160ZM180-400h160v-160H180v160Zm440 0h160v-160H620v160ZM180-180h160v-160H180v160Zm440 0h160v-160H620v160Z\"/>\n",
              "  </svg>\n",
              "    </button>\n",
              "\n",
              "  <style>\n",
              "    .colab-df-container {\n",
              "      display:flex;\n",
              "      gap: 12px;\n",
              "    }\n",
              "\n",
              "    .colab-df-convert {\n",
              "      background-color: #E8F0FE;\n",
              "      border: none;\n",
              "      border-radius: 50%;\n",
              "      cursor: pointer;\n",
              "      display: none;\n",
              "      fill: #1967D2;\n",
              "      height: 32px;\n",
              "      padding: 0 0 0 0;\n",
              "      width: 32px;\n",
              "    }\n",
              "\n",
              "    .colab-df-convert:hover {\n",
              "      background-color: #E2EBFA;\n",
              "      box-shadow: 0px 1px 2px rgba(60, 64, 67, 0.3), 0px 1px 3px 1px rgba(60, 64, 67, 0.15);\n",
              "      fill: #174EA6;\n",
              "    }\n",
              "\n",
              "    .colab-df-buttons div {\n",
              "      margin-bottom: 4px;\n",
              "    }\n",
              "\n",
              "    [theme=dark] .colab-df-convert {\n",
              "      background-color: #3B4455;\n",
              "      fill: #D2E3FC;\n",
              "    }\n",
              "\n",
              "    [theme=dark] .colab-df-convert:hover {\n",
              "      background-color: #434B5C;\n",
              "      box-shadow: 0px 1px 3px 1px rgba(0, 0, 0, 0.15);\n",
              "      filter: drop-shadow(0px 1px 2px rgba(0, 0, 0, 0.3));\n",
              "      fill: #FFFFFF;\n",
              "    }\n",
              "  </style>\n",
              "\n",
              "    <script>\n",
              "      const buttonEl =\n",
              "        document.querySelector('#df-e2833905-efe1-414f-b4f6-6e5d00d703e8 button.colab-df-convert');\n",
              "      buttonEl.style.display =\n",
              "        google.colab.kernel.accessAllowed ? 'block' : 'none';\n",
              "\n",
              "      async function convertToInteractive(key) {\n",
              "        const element = document.querySelector('#df-e2833905-efe1-414f-b4f6-6e5d00d703e8');\n",
              "        const dataTable =\n",
              "          await google.colab.kernel.invokeFunction('convertToInteractive',\n",
              "                                                    [key], {});\n",
              "        if (!dataTable) return;\n",
              "\n",
              "        const docLinkHtml = 'Like what you see? Visit the ' +\n",
              "          '<a target=\"_blank\" href=https://colab.research.google.com/notebooks/data_table.ipynb>data table notebook</a>'\n",
              "          + ' to learn more about interactive tables.';\n",
              "        element.innerHTML = '';\n",
              "        dataTable['output_type'] = 'display_data';\n",
              "        await google.colab.output.renderOutput(dataTable, element);\n",
              "        const docLink = document.createElement('div');\n",
              "        docLink.innerHTML = docLinkHtml;\n",
              "        element.appendChild(docLink);\n",
              "      }\n",
              "    </script>\n",
              "  </div>\n",
              "\n",
              "    </div>\n",
              "  </div>\n"
            ]
          },
          "metadata": {},
          "execution_count": 103
        }
      ],
      "source": [
        "# df_normal_bus = df_plot.loc[start_index_clone:end_index-12]\n",
        "df_normal_bus = df_plot.loc[start_index_clone:end_index]\n",
        "\n",
        "df_normal_bus = df_normal_bus[df_plot['Hour'] == starting_hour]\n",
        "df_normal_bus.head(20)"
      ]
    },
    {
      "cell_type": "code",
      "execution_count": 104,
      "metadata": {
        "id": "rITGIylzshe5",
        "colab": {
          "base_uri": "https://localhost:8080/"
        },
        "outputId": "76085e7b-3b5a-4c85-f088-44e275bcb002"
      },
      "outputs": [
        {
          "output_type": "execute_result",
          "data": {
            "text/plain": [
              "19148    4.791344\n",
              "Name: ren/tot, dtype: float64"
            ]
          },
          "metadata": {},
          "execution_count": 104
        }
      ],
      "source": [
        "# df_normal_bus = df_plot[df_plot['Hour'] == starting_hour]\n",
        "# df_normal_bus = df_normal_bus.loc[start_index_clone:end_index]\n",
        "# print(df_normal_bus.shape)\n",
        "df_normal_consumed_bus = df_normal_bus['ren/tot'] * daily_average_electricity_consumption/100\n",
        "df_normal_consumed_bus"
      ]
    },
    {
      "cell_type": "code",
      "execution_count": 105,
      "metadata": {
        "id": "lfT-4St4L29L"
      },
      "outputs": [],
      "source": [
        "# print(len(ren_rates))\n",
        "# np.sum(ren_rates) #/(len(ren_rates)/df_normal_bus.shape[0])\n"
      ]
    },
    {
      "cell_type": "markdown",
      "metadata": {
        "id": "iGFj8Ztz-15G"
      },
      "source": [
        "# Results"
      ]
    },
    {
      "cell_type": "code",
      "execution_count": 106,
      "metadata": {
        "colab": {
          "base_uri": "https://localhost:8080/"
        },
        "id": "_4ubRsavfo8W",
        "outputId": "78e2e84f-74f3-46be-c36e-b7a221dc7bf9"
      },
      "outputs": [
        {
          "output_type": "stream",
          "name": "stdout",
          "text": [
            " renewable energy when NORMALLY charged : 4.791343899286666\n",
            " renewable energy when SMARTLY charged : 5.715847530128664\n",
            " renewable energy ratio NORMALLY charged : 0.3992786582738888\n",
            " renewable energy ratio SMARTLY charged : 0.47632062751072196\n"
          ]
        }
      ],
      "source": [
        "print(f\" renewable energy when NORMALLY charged : {np.sum(df_normal_consumed_bus)}\")\n",
        "print(f\" renewable energy when SMARTLY charged : {np.sum(ren_rates)}\")\n",
        "print(f\" renewable energy ratio NORMALLY charged : {np.sum(df_normal_consumed_bus)/(daily_average_electricity_consumption* len(df_normal_consumed_bus))}\")\n",
        "print(f\" renewable energy ratio SMARTLY charged : {np.sum(ren_rates)/(daily_average_electricity_consumption* len(df_normal_consumed_bus))}\")\n"
      ]
    },
    {
      "cell_type": "code",
      "execution_count": 107,
      "metadata": {
        "colab": {
          "base_uri": "https://localhost:8080/"
        },
        "id": "Pn4WVyLicLZt",
        "outputId": "ea718347-207b-4d03-eecf-68ed06042d87"
      },
      "outputs": [
        {
          "output_type": "execute_result",
          "data": {
            "text/plain": [
              "0.4622518154209989"
            ]
          },
          "metadata": {},
          "execution_count": 107
        }
      ],
      "source": [
        "(np.sum(ren_rates) - np.sum(df_normal_consumed_bus))/2"
      ]
    },
    {
      "cell_type": "markdown",
      "metadata": {
        "id": "d99xybWOAGLR"
      },
      "source": [
        "## $$ Based Result"
      ]
    },
    {
      "cell_type": "code",
      "execution_count": 108,
      "metadata": {
        "colab": {
          "base_uri": "https://localhost:8080/"
        },
        "id": "hs1kdV_bHGLg",
        "outputId": "f4689bb7-2a2f-4a40-d5d5-2380cfcbef9a"
      },
      "outputs": [
        {
          "output_type": "execute_result",
          "data": {
            "text/plain": [
              "1.5975422740949725"
            ]
          },
          "metadata": {},
          "execution_count": 108
        }
      ],
      "source": [
        "(np.sum(ren_rates) - np.sum(df_normal_consumed_bus))/df_normal_consumed_bus.shape[0]  *360 * 0.8 * 6 /1000\n"
      ]
    },
    {
      "cell_type": "code",
      "execution_count": 108,
      "metadata": {
        "id": "qbRSEPpC2fGk"
      },
      "outputs": [],
      "source": []
    }
  ],
  "metadata": {
    "colab": {
      "collapsed_sections": [
        "qz2AOelqOTId"
      ],
      "provenance": [],
      "include_colab_link": true
    },
    "kernelspec": {
      "display_name": "Python 3",
      "name": "python3"
    },
    "language_info": {
      "name": "python"
    }
  },
  "nbformat": 4,
  "nbformat_minor": 0
}